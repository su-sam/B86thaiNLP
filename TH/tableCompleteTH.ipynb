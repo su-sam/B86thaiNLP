{
 "cells": [
  {
   "cell_type": "code",
   "execution_count": 2,
   "metadata": {},
   "outputs": [],
   "source": [
    "import csv"
   ]
  },
  {
   "cell_type": "code",
   "execution_count": 17,
   "metadata": {},
   "outputs": [],
   "source": [
    "def TFF(G,A): #function Table\n",
    "    with open(r'C:\\Users\\Sumonwan\\Desktop\\Project\\outComTH.csv','a+') as g: \n",
    "        for x in G:\n",
    "            i = int(0)\n",
    "            for y in A:\n",
    "                if str(x) == str(y) :\n",
    "                    i = int(1)\n",
    "                else:\n",
    "                    i =i+int(0)\n",
    "            g.write(str(i)+\",\")\n",
    "        g.write(\"\\n\")\n",
    "with open(r'C:\\Users\\Sumonwan\\Desktop\\Project\\newColTH.csv',encoding='utf-8') as csvfile: # Column Variable\n",
    "    reader = csv.reader(csvfile, delimiter=',')\n",
    "    for row in reader:\n",
    "        G = row\n",
    "with open(r'C:\\Users\\Sumonwan\\Desktop\\Project\\outpTH.csv',encoding='utf-8') as csvfile: # Data Csv\n",
    "    reader2 = csv.reader(csvfile, delimiter=',')\n",
    "    for row2 in reader2:\n",
    "        A = row2 #Row of Data csv\n",
    "        TFF(G,A)"
   ]
  },
  {
   "cell_type": "code",
   "execution_count": null,
   "metadata": {},
   "outputs": [],
   "source": []
  }
 ],
 "metadata": {
  "kernelspec": {
   "display_name": "Python 3",
   "language": "python",
   "name": "python3"
  },
  "language_info": {
   "codemirror_mode": {
    "name": "ipython",
    "version": 3
   },
   "file_extension": ".py",
   "mimetype": "text/x-python",
   "name": "python",
   "nbconvert_exporter": "python",
   "pygments_lexer": "ipython3",
   "version": "3.6.5"
  }
 },
 "nbformat": 4,
 "nbformat_minor": 2
}
