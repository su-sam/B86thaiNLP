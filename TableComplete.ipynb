{
 "cells": [
  {
   "cell_type": "code",
   "execution_count": null,
   "metadata": {},
   "outputs": [],
   "source": [
    "def TFF(G,A): #function Table\n",
    "    with open(r'C:\\Users\\5710210492\\Desktop\\Textmining\\outCom.csv','a+') as g: \n",
    "        for x in G:\n",
    "            i = int(0)\n",
    "            for y in A:\n",
    "                if x == y :\n",
    "                    i = int(1)\n",
    "                else:\n",
    "                    i =i+int(0)\n",
    "            g.write(str(i)+\",\")\n",
    "        g.write(\"\\n\")\n",
    "with open(r'C:\\Users\\5710210492\\Desktop\\Textmining\\newColeng.csv',encoding='utf-8') as csvfile: # Column Variable\n",
    "    reader = csv.reader(csvfile, delimiter=',')\n",
    "    for row in reader:\n",
    "        G = (row)\n",
    "with open(r'C:\\Users\\5710210492\\Desktop\\Textmining\\outeng.csv') as csvfile: # Data Csv\n",
    "    reader2 = csv.reader(csvfile, delimiter=',')\n",
    "    for row2 in reader2:\n",
    "        A = (row2) #Row of Data csv\n",
    "        TFF(G,A)"
   ]
  }
 ],
 "metadata": {
  "kernelspec": {
   "display_name": "Python 3",
   "language": "python",
   "name": "python3"
  },
  "language_info": {
   "codemirror_mode": {
    "name": "ipython",
    "version": 3
   },
   "file_extension": ".py",
   "mimetype": "text/x-python",
   "name": "python",
   "nbconvert_exporter": "python",
   "pygments_lexer": "ipython3",
   "version": "3.6.4"
  }
 },
 "nbformat": 4,
 "nbformat_minor": 2
}
