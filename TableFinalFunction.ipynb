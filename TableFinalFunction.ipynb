{
 "cells": [
  {
   "cell_type": "code",
   "execution_count": 12,
   "metadata": {},
   "outputs": [],
   "source": [
    "G = (\"Rat\",\"Dog\",\"Cat\") # Column union Input\n",
    "A = (\"Cat\",\"Rat\",\"Rat\",\"Blue\") # Row Data Input\n",
    "def TFF(G,A):\n",
    "    with open(r'C:\\Users\\5710210492\\Desktop\\Textmining\\outtest.csv','a+') as g: # Csv file output ไฟล์จะต่อกัน\n",
    "        for x in G:\n",
    "            i = int(0)\n",
    "            for y in A:\n",
    "                if x == y :\n",
    "                    i = int(1)\n",
    "                else:\n",
    "                    i =i+int(0)\n",
    "            g.write(str(i)+\",\")\n",
    "        g.write(\"\\n\")\n",
    "TFF(G,A) # Test TTF Function"
   ]
  },
  {
   "cell_type": "code",
   "execution_count": null,
   "metadata": {},
   "outputs": [],
   "source": []
  },
  {
   "cell_type": "code",
   "execution_count": null,
   "metadata": {},
   "outputs": [],
   "source": []
  }
 ],
 "metadata": {
  "kernelspec": {
   "display_name": "Python 3",
   "language": "python",
   "name": "python3"
  },
  "language_info": {
   "codemirror_mode": {
    "name": "ipython",
    "version": 3
   },
   "file_extension": ".py",
   "mimetype": "text/x-python",
   "name": "python",
   "nbconvert_exporter": "python",
   "pygments_lexer": "ipython3",
   "version": "3.6.4"
  }
 },
 "nbformat": 4,
 "nbformat_minor": 2
}
