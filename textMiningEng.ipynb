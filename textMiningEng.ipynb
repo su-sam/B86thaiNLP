{
 "cells": [
  {
   "cell_type": "code",
   "execution_count": 5,
   "metadata": {
    "collapsed": true
   },
   "outputs": [
    {
     "name": "stdout",
     "output_type": "stream",
     "text": [
      "Processing c:\\users\\5710210492\\pyicu-2.0.3-cp36-cp36m-win_amd64.whl\n",
      "Installing collected packages: PyICU\n",
      "Successfully installed PyICU-2.0.3\n"
     ]
    },
    {
     "name": "stderr",
     "output_type": "stream",
     "text": [
      "You are using pip version 9.0.1, however version 9.0.3 is available.\n",
      "You should consider upgrading via the 'python -m pip install --upgrade pip' command.\n"
     ]
    }
   ],
   "source": [
    "!pip install PyICU-2.0.3-cp36-cp36m-win_amd64.whl"
   ]
  },
  {
   "cell_type": "code",
   "execution_count": 19,
   "metadata": {
    "collapsed": true
   },
   "outputs": [
    {
     "name": "stdout",
     "output_type": "stream",
     "text": [
      "Requirement already satisfied: pythainlp==1.6.0.4 from file:///C:/Users/5710210492/pythainlp-1.6.0.4-py2.py3-none-any.whl in c:\\programdata\\anaconda3\\lib\\site-packages\n",
      "Requirement already satisfied: requests in c:\\programdata\\anaconda3\\lib\\site-packages (from pythainlp==1.6.0.4)\n",
      "Requirement already satisfied: dill in c:\\programdata\\anaconda3\\lib\\site-packages (from pythainlp==1.6.0.4)\n",
      "Requirement already satisfied: six in c:\\programdata\\anaconda3\\lib\\site-packages (from pythainlp==1.6.0.4)\n",
      "Requirement already satisfied: pytz in c:\\programdata\\anaconda3\\lib\\site-packages (from pythainlp==1.6.0.4)\n",
      "Requirement already satisfied: nltk>=3.2.2 in c:\\programdata\\anaconda3\\lib\\site-packages (from pythainlp==1.6.0.4)\n",
      "Requirement already satisfied: future>=0.16.0 in c:\\programdata\\anaconda3\\lib\\site-packages (from pythainlp==1.6.0.4)\n",
      "Requirement already satisfied: marisa-trie in c:\\programdata\\anaconda3\\lib\\site-packages (from pythainlp==1.6.0.4)\n",
      "Requirement already satisfied: chardet<3.1.0,>=3.0.2 in c:\\programdata\\anaconda3\\lib\\site-packages (from requests->pythainlp==1.6.0.4)\n",
      "Requirement already satisfied: idna<2.7,>=2.5 in c:\\programdata\\anaconda3\\lib\\site-packages (from requests->pythainlp==1.6.0.4)\n",
      "Requirement already satisfied: urllib3<1.23,>=1.21.1 in c:\\programdata\\anaconda3\\lib\\site-packages (from requests->pythainlp==1.6.0.4)\n",
      "Requirement already satisfied: certifi>=2017.4.17 in c:\\programdata\\anaconda3\\lib\\site-packages (from requests->pythainlp==1.6.0.4)\n",
      "Requirement already satisfied: pyreadline>=1.7.1 in c:\\programdata\\anaconda3\\lib\\site-packages (from dill->pythainlp==1.6.0.4)\n"
     ]
    },
    {
     "name": "stderr",
     "output_type": "stream",
     "text": [
      "You are using pip version 9.0.1, however version 9.0.3 is available.\n",
      "You should consider upgrading via the 'python -m pip install --upgrade pip' command.\n"
     ]
    }
   ],
   "source": [
    "!pip install pythainlp-1.6.0.4-py2.py3-none-any.whl"
   ]
  },
  {
   "cell_type": "code",
   "execution_count": 22,
   "metadata": {},
   "outputs": [],
   "source": [
    "from pythainlp.tokenize import word_tokenize"
   ]
  },
  {
   "cell_type": "code",
   "execution_count": 29,
   "metadata": {},
   "outputs": [],
   "source": [
    "import pandas as pd \n",
    "df = pd.read_table(r\"C:\\Users\\5710210492\\Desktop\\Textmining\\B86fixENG.csv\", sep=\",\")\n",
    "#df"
   ]
  },
  {
   "cell_type": "code",
   "execution_count": 30,
   "metadata": {
    "collapsed": true
   },
   "outputs": [
    {
     "name": "stdout",
     "output_type": "stream",
     "text": [
      "0      Multiple Discrete Erythematous Patch With Acti...\n",
      "1      Multiple Discrete Erythematous Papule At Trunk...\n",
      "2      Multiple Discrete Erythematous Papules On Trun...\n",
      "3      Multiple Discrete Erythematous Papules On Axil...\n",
      "4      Multiple Discrete Erythematous Papules On Fing...\n",
      "5      Multiple Discrete Erythematous Papules On Fing...\n",
      "6      Multiple Discrete Erythematous Papules On Both...\n",
      "7      Multiple Discrete Erythematous Papules On Both...\n",
      "8      Multiple Discrete Erythematous Papules At Both...\n",
      "9      Multiple Discrete Blanchable Erythematous Macu...\n",
      "10     Multiple Discrete Scaly Erythematous Patches O...\n",
      "11     Multiple Discrete Erythematous Papules And Pla...\n",
      "12     Multiple Discrete Erythematous Papules And Pla...\n",
      "13        Few Erosion On Penis   No Groin Ln Enlargement\n",
      "14     Multiple Discrete Erythematous Papules On Both...\n",
      "15     Excoriated Papules On Finger Webs, Around Umbi...\n",
      "16     Multiple Discrete Erythematous Papules On Both...\n",
      "17     Multiple Discrete Erythematous Papules And Pla...\n",
      "18                                   On Fingers, Prepuce\n",
      "19     Multiple Discrete Erythematous Papules On Both...\n",
      "20                Few Erythematous Papules On Both Hands\n",
      "21      Papules On Finger Webs, Buttock, Below Umbilicus\n",
      "22     Multiple Discrete Erythematous Papules On Fing...\n",
      "23     Multiple Erythematous Papules At Arms, Legs, F...\n",
      "24     Multiple Discrete Erythematous Papules On Hand...\n",
      "25     Multiple Discrete Erythematous Papules On Hand...\n",
      "26     Multiple Discrete Erythematous Papules On Both...\n",
      "27     Small Papules On Finger Webs, Around Umbilicus...\n",
      "28     Mulitple Discrete Erythematous Papules On Fing...\n",
      "29          Excoriated Erythematous Papules On Both Arms\n",
      "                             ...                        \n",
      "425                              F/U Scabies   Not Itchy\n",
      "426                                     Clinical Improve\n",
      "427                                              Improve\n",
      "428           Multiple Erythematous Papules On Trunk Ext\n",
      "429               Multiple Erythematous Papules On Trunk\n",
      "430    Multiple Erythematous Papules On Finger Web Ax...\n",
      "431    Multiple Erythematous Papules On Finger Web, T...\n",
      "432    Multilple Erythematous Papules On Trunk Finger...\n",
      "433    F/U Scabies   Clinical Improved   Pe : Papule ...\n",
      "434    F/U Case Scabies   Improved Rash At Hand And T...\n",
      "435      F/U Scabies   Decrease Itchy  Pe : Pih At Thigh\n",
      "436                                          Scabies +Ve\n",
      "437                      Case Scabiasis Clinical Improve\n",
      "438                                               #NAME?\n",
      "439    Multiple Discrete Erythematous Papules At Trun...\n",
      "440    Generalized Multiple Discrete Excoriated Papul...\n",
      "441    F/U Scabies   Improved Symptom  Pe : Dry Skin,...\n",
      "442    Multiple Discrete Erythematous Papules And Pla...\n",
      "443        Case Scabiasis Clinical Improve No New Lesion\n",
      "444    Pe : General Excoriated Papule At Face Hand An...\n",
      "445                      Case Scabiasis Clinical Improve\n",
      "446    Excoriated Papules On Finger Web, Genitalia, A...\n",
      "447                      Case Scabiasis Clinical Improve\n",
      "448                      Case Scabiasis Clinical Improve\n",
      "449          Pe : Excoriated Papule On Axillar And Trunk\n",
      "450    Multiple Erythematous Papules On Finger Web , ...\n",
      "451    Multiple Discrete Erythematous Patch And Plaqu...\n",
      "452    Rash 2 Months  Pe : Burrow At Wrist ,Trunk And...\n",
      "453    Multiple Erythematous Papules With Vesicle  On...\n",
      "454    Multiple Discrete Erythematous Papules And Pla...\n",
      "Name: PE, Length: 455, dtype: object\n"
     ]
    }
   ],
   "source": [
    "from pandas import DataFrame, read_csv\n",
    "import matplotlib.pyplot as plt\n",
    "import pandas as pd \n",
    " \n",
    "file = r'C:\\Users\\5710210492\\Desktop\\Textmining\\B86fixENG.csv'\n",
    "df = pd.read_csv(file)\n",
    "print(df['PE'])"
   ]
  },
  {
   "cell_type": "code",
   "execution_count": 31,
   "metadata": {},
   "outputs": [
    {
     "data": {
      "text/plain": [
       "455"
      ]
     },
     "execution_count": 31,
     "metadata": {},
     "output_type": "execute_result"
    }
   ],
   "source": [
    "Count_Row=df.shape[0] #gives number of row count\n",
    "Count_Row"
   ]
  },
  {
   "cell_type": "code",
   "execution_count": 32,
   "metadata": {},
   "outputs": [],
   "source": [
    "a=df['PE'].values[0]"
   ]
  },
  {
   "cell_type": "code",
   "execution_count": 36,
   "metadata": {},
   "outputs": [],
   "source": [
    "with open(r'C:\\Users\\5710210492\\Desktop\\Textmining\\outengfix.csv','w') as f:\n",
    "    for x in range(0, Count_Row):\n",
    "        data=df['PE'].values[x]\n",
    "        splitedWord = data.split(\" \")\n",
    "        engStrings = ''\n",
    "        thStrings = '' \n",
    "        engStrings = ''\n",
    "        thStrings = '' \n",
    "        for firstChar in splitedWord :\n",
    "            if (firstChar >= 'A' and firstChar <= 'Z') or (firstChar >= 'a' and firstChar <= 'z' ):\n",
    "                engStrings += firstChar + ' '\n",
    "            else :\n",
    "                thStrings += firstChar\n",
    "        engStrings = engStrings.strip()\n",
    "        En = word_tokenize(engStrings,engine=\"newmm\")\n",
    "        for line in En:\n",
    "            f.write(line+\",\")\n",
    "        thStrings = thStrings.replace(\" \",\"\")\n",
    "        Th = word_tokenize(thStrings,engine=\"newmm\")\n",
    "        for line in Th:\n",
    "            f.write(line+\",\")\n",
    "        f.write(\"\\n\")"
   ]
  },
  {
   "cell_type": "code",
   "execution_count": 37,
   "metadata": {},
   "outputs": [],
   "source": [
    "import csv\n",
    "tmp = []\n",
    "with open(r'C:\\Users\\5710210492\\Desktop\\Textmining\\outengfix.csv') as csvfile:\n",
    "    reader = csv.reader(csvfile, delimiter=',')\n",
    "    for row in reader:\n",
    "       # print (row)\n",
    "        a=row\n",
    "        tmp=set().union(tmp,a)"
   ]
  },
  {
   "cell_type": "code",
   "execution_count": 38,
   "metadata": {},
   "outputs": [
    {
     "data": {
      "text/plain": [
       "563"
      ]
     },
     "execution_count": 38,
     "metadata": {},
     "output_type": "execute_result"
    }
   ],
   "source": [
    "len(tmp) #Count of variable"
   ]
  },
  {
   "cell_type": "code",
   "execution_count": 39,
   "metadata": {},
   "outputs": [],
   "source": [
    "with open(r'C:\\Users\\5710210492\\Desktop\\Textmining\\newColengfix.csv', 'w') as f:\n",
    "    for line in tmp:\n",
    "            f.write(line+\",\")"
   ]
  },
  {
   "cell_type": "code",
   "execution_count": 41,
   "metadata": {
    "scrolled": true
   },
   "outputs": [],
   "source": [
    "import csv\n",
    "def TFF(G,A): #function Table\n",
    "    with open(r'C:\\Users\\5710210492\\Desktop\\Textmining\\outCompletefix.csv','a+') as g: \n",
    "        for x in G:\n",
    "            i = int(0)\n",
    "            for y in A:\n",
    "                if x == y :\n",
    "                    i = int(1)\n",
    "                else:\n",
    "                    i =i+int(0)\n",
    "            g.write(str(i)+\",\")\n",
    "        g.write(\"\\n\")\n",
    "with open(r'C:\\Users\\5710210492\\Desktop\\Textmining\\newColengfix.csv') as csvfile: # Column Variable\n",
    "    reader = csv.reader(csvfile, delimiter=',')\n",
    "    for row in reader:\n",
    "        G = (row)\n",
    "with open(r'C:\\Users\\5710210492\\Desktop\\Textmining\\outengfix.csv') as csvfile2: # Data Csv\n",
    "    reader2 = csv.reader(csvfile2, delimiter=',')\n",
    "    for row2 in reader2:\n",
    "        A = (row2) #Row of Data csv\n",
    "        TFF(G,A)"
   ]
  },
  {
   "cell_type": "code",
   "execution_count": null,
   "metadata": {},
   "outputs": [],
   "source": []
  },
  {
   "cell_type": "code",
   "execution_count": null,
   "metadata": {},
   "outputs": [],
   "source": []
  }
 ],
 "metadata": {
  "kernelspec": {
   "display_name": "Python 3",
   "language": "python",
   "name": "python3"
  },
  "language_info": {
   "codemirror_mode": {
    "name": "ipython",
    "version": 3
   },
   "file_extension": ".py",
   "mimetype": "text/x-python",
   "name": "python",
   "nbconvert_exporter": "python",
   "pygments_lexer": "ipython3",
   "version": "3.6.4"
  }
 },
 "nbformat": 4,
 "nbformat_minor": 2
}
